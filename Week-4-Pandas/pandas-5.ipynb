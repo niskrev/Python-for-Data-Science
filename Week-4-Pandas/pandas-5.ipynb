{
 "cells": [
  {
   "cell_type": "code",
   "execution_count": 1,
   "metadata": {
    "collapsed": true
   },
   "outputs": [],
   "source": [
    "import pandas as pd"
   ]
  },
  {
   "cell_type": "code",
   "execution_count": 17,
   "metadata": {
    "collapsed": false
   },
   "outputs": [
    {
     "data": {
      "text/html": [
       "<div>\n",
       "<table border=\"1\" class=\"dataframe\">\n",
       "  <thead>\n",
       "    <tr style=\"text-align: right;\">\n",
       "      <th></th>\n",
       "      <th>userId</th>\n",
       "      <th>movieId</th>\n",
       "      <th>tag</th>\n",
       "      <th>timestamp</th>\n",
       "    </tr>\n",
       "  </thead>\n",
       "  <tbody>\n",
       "    <tr>\n",
       "      <th>0</th>\n",
       "      <td>18</td>\n",
       "      <td>4141</td>\n",
       "      <td>Mark Waters</td>\n",
       "      <td>1240597180</td>\n",
       "    </tr>\n",
       "    <tr>\n",
       "      <th>1</th>\n",
       "      <td>65</td>\n",
       "      <td>208</td>\n",
       "      <td>dark hero</td>\n",
       "      <td>1368150078</td>\n",
       "    </tr>\n",
       "    <tr>\n",
       "      <th>2</th>\n",
       "      <td>65</td>\n",
       "      <td>353</td>\n",
       "      <td>dark hero</td>\n",
       "      <td>1368150079</td>\n",
       "    </tr>\n",
       "    <tr>\n",
       "      <th>3</th>\n",
       "      <td>65</td>\n",
       "      <td>521</td>\n",
       "      <td>noir thriller</td>\n",
       "      <td>1368149983</td>\n",
       "    </tr>\n",
       "    <tr>\n",
       "      <th>4</th>\n",
       "      <td>65</td>\n",
       "      <td>592</td>\n",
       "      <td>dark hero</td>\n",
       "      <td>1368150078</td>\n",
       "    </tr>\n",
       "  </tbody>\n",
       "</table>\n",
       "</div>"
      ],
      "text/plain": [
       "   userId  movieId            tag   timestamp\n",
       "0      18     4141    Mark Waters  1240597180\n",
       "1      65      208      dark hero  1368150078\n",
       "2      65      353      dark hero  1368150079\n",
       "3      65      521  noir thriller  1368149983\n",
       "4      65      592      dark hero  1368150078"
      ]
     },
     "execution_count": 17,
     "metadata": {},
     "output_type": "execute_result"
    }
   ],
   "source": [
    "tags = pd.read_csv('movielens/tags.csv')\n",
    "tags.head()"
   ]
  },
  {
   "cell_type": "code",
   "execution_count": 24,
   "metadata": {
    "collapsed": false
   },
   "outputs": [
    {
     "data": {
      "text/html": [
       "<div>\n",
       "<table border=\"1\" class=\"dataframe\">\n",
       "  <thead>\n",
       "    <tr style=\"text-align: right;\">\n",
       "      <th></th>\n",
       "      <th>userId</th>\n",
       "      <th>movieId</th>\n",
       "      <th>tag</th>\n",
       "      <th>timestamp</th>\n",
       "      <th>parsed_time</th>\n",
       "    </tr>\n",
       "  </thead>\n",
       "  <tbody>\n",
       "    <tr>\n",
       "      <th>0</th>\n",
       "      <td>18</td>\n",
       "      <td>4141</td>\n",
       "      <td>Mark Waters</td>\n",
       "      <td>1240597180</td>\n",
       "      <td>2009-04-24 18:19:40</td>\n",
       "    </tr>\n",
       "    <tr>\n",
       "      <th>1</th>\n",
       "      <td>65</td>\n",
       "      <td>208</td>\n",
       "      <td>dark hero</td>\n",
       "      <td>1368150078</td>\n",
       "      <td>2013-05-10 01:41:18</td>\n",
       "    </tr>\n",
       "    <tr>\n",
       "      <th>2</th>\n",
       "      <td>65</td>\n",
       "      <td>353</td>\n",
       "      <td>dark hero</td>\n",
       "      <td>1368150079</td>\n",
       "      <td>2013-05-10 01:41:19</td>\n",
       "    </tr>\n",
       "    <tr>\n",
       "      <th>3</th>\n",
       "      <td>65</td>\n",
       "      <td>521</td>\n",
       "      <td>noir thriller</td>\n",
       "      <td>1368149983</td>\n",
       "      <td>2013-05-10 01:39:43</td>\n",
       "    </tr>\n",
       "    <tr>\n",
       "      <th>4</th>\n",
       "      <td>65</td>\n",
       "      <td>592</td>\n",
       "      <td>dark hero</td>\n",
       "      <td>1368150078</td>\n",
       "      <td>2013-05-10 01:41:18</td>\n",
       "    </tr>\n",
       "  </tbody>\n",
       "</table>\n",
       "</div>"
      ],
      "text/plain": [
       "   userId  movieId            tag   timestamp         parsed_time\n",
       "0      18     4141    Mark Waters  1240597180 2009-04-24 18:19:40\n",
       "1      65      208      dark hero  1368150078 2013-05-10 01:41:18\n",
       "2      65      353      dark hero  1368150079 2013-05-10 01:41:19\n",
       "3      65      521  noir thriller  1368149983 2013-05-10 01:39:43\n",
       "4      65      592      dark hero  1368150078 2013-05-10 01:41:18"
      ]
     },
     "execution_count": 24,
     "metadata": {},
     "output_type": "execute_result"
    }
   ],
   "source": [
    "tags['parsed_time'] = pd.to_datetime(tags['timestamp'], unit='s',)\n",
    "tags.head()"
   ]
  },
  {
   "cell_type": "code",
   "execution_count": 25,
   "metadata": {
    "collapsed": true
   },
   "outputs": [],
   "source": [
    "greater_than_t = tags['parsed_time'] > '2010-01-01'"
   ]
  },
  {
   "cell_type": "code",
   "execution_count": 29,
   "metadata": {
    "collapsed": false
   },
   "outputs": [
    {
     "data": {
      "text/html": [
       "<div>\n",
       "<table border=\"1\" class=\"dataframe\">\n",
       "  <thead>\n",
       "    <tr style=\"text-align: right;\">\n",
       "      <th></th>\n",
       "      <th>userId</th>\n",
       "      <th>movieId</th>\n",
       "      <th>tag</th>\n",
       "      <th>timestamp</th>\n",
       "      <th>parsed_time</th>\n",
       "    </tr>\n",
       "  </thead>\n",
       "  <tbody>\n",
       "    <tr>\n",
       "      <th>333932</th>\n",
       "      <td>100371</td>\n",
       "      <td>2788</td>\n",
       "      <td>monty python</td>\n",
       "      <td>1135429210</td>\n",
       "      <td>2005-12-24 13:00:10</td>\n",
       "    </tr>\n",
       "    <tr>\n",
       "      <th>333927</th>\n",
       "      <td>100371</td>\n",
       "      <td>1732</td>\n",
       "      <td>coen brothers</td>\n",
       "      <td>1135429236</td>\n",
       "      <td>2005-12-24 13:00:36</td>\n",
       "    </tr>\n",
       "    <tr>\n",
       "      <th>333924</th>\n",
       "      <td>100371</td>\n",
       "      <td>1206</td>\n",
       "      <td>stanley kubrick</td>\n",
       "      <td>1135429248</td>\n",
       "      <td>2005-12-24 13:00:48</td>\n",
       "    </tr>\n",
       "    <tr>\n",
       "      <th>333923</th>\n",
       "      <td>100371</td>\n",
       "      <td>1193</td>\n",
       "      <td>jack nicholson</td>\n",
       "      <td>1135429371</td>\n",
       "      <td>2005-12-24 13:02:51</td>\n",
       "    </tr>\n",
       "    <tr>\n",
       "      <th>333939</th>\n",
       "      <td>100371</td>\n",
       "      <td>5004</td>\n",
       "      <td>peter sellers</td>\n",
       "      <td>1135429399</td>\n",
       "      <td>2005-12-24 13:03:19</td>\n",
       "    </tr>\n",
       "    <tr>\n",
       "      <th>333922</th>\n",
       "      <td>100371</td>\n",
       "      <td>47</td>\n",
       "      <td>morgan freeman</td>\n",
       "      <td>1135429412</td>\n",
       "      <td>2005-12-24 13:03:32</td>\n",
       "    </tr>\n",
       "    <tr>\n",
       "      <th>333921</th>\n",
       "      <td>100371</td>\n",
       "      <td>47</td>\n",
       "      <td>brad pitt</td>\n",
       "      <td>1135429412</td>\n",
       "      <td>2005-12-24 13:03:32</td>\n",
       "    </tr>\n",
       "    <tr>\n",
       "      <th>333936</th>\n",
       "      <td>100371</td>\n",
       "      <td>4011</td>\n",
       "      <td>brad pitt</td>\n",
       "      <td>1135429431</td>\n",
       "      <td>2005-12-24 13:03:51</td>\n",
       "    </tr>\n",
       "    <tr>\n",
       "      <th>333937</th>\n",
       "      <td>100371</td>\n",
       "      <td>4011</td>\n",
       "      <td>guy ritchie</td>\n",
       "      <td>1135429431</td>\n",
       "      <td>2005-12-24 13:03:51</td>\n",
       "    </tr>\n",
       "    <tr>\n",
       "      <th>333920</th>\n",
       "      <td>100371</td>\n",
       "      <td>32</td>\n",
       "      <td>bruce willis</td>\n",
       "      <td>1135429442</td>\n",
       "      <td>2005-12-24 13:04:02</td>\n",
       "    </tr>\n",
       "    <tr>\n",
       "      <th>333933</th>\n",
       "      <td>100371</td>\n",
       "      <td>2858</td>\n",
       "      <td>kevin spacey</td>\n",
       "      <td>1135429466</td>\n",
       "      <td>2005-12-24 13:04:26</td>\n",
       "    </tr>\n",
       "    <tr>\n",
       "      <th>333931</th>\n",
       "      <td>100371</td>\n",
       "      <td>2329</td>\n",
       "      <td>fuckoff nazi</td>\n",
       "      <td>1135429508</td>\n",
       "      <td>2005-12-24 13:05:08</td>\n",
       "    </tr>\n",
       "    <tr>\n",
       "      <th>333930</th>\n",
       "      <td>100371</td>\n",
       "      <td>2329</td>\n",
       "      <td>edward norton</td>\n",
       "      <td>1135429508</td>\n",
       "      <td>2005-12-24 13:05:08</td>\n",
       "    </tr>\n",
       "    <tr>\n",
       "      <th>333944</th>\n",
       "      <td>100371</td>\n",
       "      <td>6016</td>\n",
       "      <td>brazil</td>\n",
       "      <td>1135429520</td>\n",
       "      <td>2005-12-24 13:05:20</td>\n",
       "    </tr>\n",
       "    <tr>\n",
       "      <th>15903</th>\n",
       "      <td>3797</td>\n",
       "      <td>110</td>\n",
       "      <td>overrated</td>\n",
       "      <td>1135589075</td>\n",
       "      <td>2005-12-26 09:24:35</td>\n",
       "    </tr>\n",
       "    <tr>\n",
       "      <th>256663</th>\n",
       "      <td>75141</td>\n",
       "      <td>4642</td>\n",
       "      <td>Terrible</td>\n",
       "      <td>1135688095</td>\n",
       "      <td>2005-12-27 12:54:55</td>\n",
       "    </tr>\n",
       "    <tr>\n",
       "      <th>15926</th>\n",
       "      <td>3797</td>\n",
       "      <td>8573</td>\n",
       "      <td>Nonlinear Surrealism</td>\n",
       "      <td>1135936223</td>\n",
       "      <td>2005-12-30 09:50:23</td>\n",
       "    </tr>\n",
       "    <tr>\n",
       "      <th>68928</th>\n",
       "      <td>16050</td>\n",
       "      <td>38886</td>\n",
       "      <td>twee</td>\n",
       "      <td>1136036612</td>\n",
       "      <td>2005-12-31 13:43:32</td>\n",
       "    </tr>\n",
       "    <tr>\n",
       "      <th>68924</th>\n",
       "      <td>16050</td>\n",
       "      <td>38886</td>\n",
       "      <td>eighties</td>\n",
       "      <td>1136036612</td>\n",
       "      <td>2005-12-31 13:43:32</td>\n",
       "    </tr>\n",
       "    <tr>\n",
       "      <th>68925</th>\n",
       "      <td>16050</td>\n",
       "      <td>38886</td>\n",
       "      <td>family</td>\n",
       "      <td>1136036612</td>\n",
       "      <td>2005-12-31 13:43:32</td>\n",
       "    </tr>\n",
       "    <tr>\n",
       "      <th>68926</th>\n",
       "      <td>16050</td>\n",
       "      <td>38886</td>\n",
       "      <td>new york</td>\n",
       "      <td>1136036612</td>\n",
       "      <td>2005-12-31 13:43:32</td>\n",
       "    </tr>\n",
       "    <tr>\n",
       "      <th>68927</th>\n",
       "      <td>16050</td>\n",
       "      <td>38886</td>\n",
       "      <td>overrated</td>\n",
       "      <td>1136036612</td>\n",
       "      <td>2005-12-31 13:43:32</td>\n",
       "    </tr>\n",
       "    <tr>\n",
       "      <th>68919</th>\n",
       "      <td>16050</td>\n",
       "      <td>7060</td>\n",
       "      <td>christian</td>\n",
       "      <td>1136039301</td>\n",
       "      <td>2005-12-31 14:28:21</td>\n",
       "    </tr>\n",
       "    <tr>\n",
       "      <th>68921</th>\n",
       "      <td>16050</td>\n",
       "      <td>7060</td>\n",
       "      <td>musical</td>\n",
       "      <td>1136039301</td>\n",
       "      <td>2005-12-31 14:28:21</td>\n",
       "    </tr>\n",
       "    <tr>\n",
       "      <th>68920</th>\n",
       "      <td>16050</td>\n",
       "      <td>7060</td>\n",
       "      <td>kitsch</td>\n",
       "      <td>1136039301</td>\n",
       "      <td>2005-12-31 14:28:21</td>\n",
       "    </tr>\n",
       "    <tr>\n",
       "      <th>68922</th>\n",
       "      <td>16050</td>\n",
       "      <td>7060</td>\n",
       "      <td>religious</td>\n",
       "      <td>1136039301</td>\n",
       "      <td>2005-12-31 14:28:21</td>\n",
       "    </tr>\n",
       "    <tr>\n",
       "      <th>68918</th>\n",
       "      <td>16050</td>\n",
       "      <td>6898</td>\n",
       "      <td>harsh</td>\n",
       "      <td>1136039368</td>\n",
       "      <td>2005-12-31 14:29:28</td>\n",
       "    </tr>\n",
       "    <tr>\n",
       "      <th>68916</th>\n",
       "      <td>16050</td>\n",
       "      <td>6898</td>\n",
       "      <td>british</td>\n",
       "      <td>1136039368</td>\n",
       "      <td>2005-12-31 14:29:28</td>\n",
       "    </tr>\n",
       "    <tr>\n",
       "      <th>68917</th>\n",
       "      <td>16050</td>\n",
       "      <td>6898</td>\n",
       "      <td>drugs</td>\n",
       "      <td>1136039368</td>\n",
       "      <td>2005-12-31 14:29:28</td>\n",
       "    </tr>\n",
       "    <tr>\n",
       "      <th>81444</th>\n",
       "      <td>20513</td>\n",
       "      <td>36529</td>\n",
       "      <td>truth</td>\n",
       "      <td>1136242623</td>\n",
       "      <td>2006-01-02 22:57:03</td>\n",
       "    </tr>\n",
       "    <tr>\n",
       "      <th>...</th>\n",
       "      <td>...</td>\n",
       "      <td>...</td>\n",
       "      <td>...</td>\n",
       "      <td>...</td>\n",
       "      <td>...</td>\n",
       "    </tr>\n",
       "    <tr>\n",
       "      <th>119997</th>\n",
       "      <td>28906</td>\n",
       "      <td>115149</td>\n",
       "      <td>violent</td>\n",
       "      <td>1427746031</td>\n",
       "      <td>2015-03-30 20:07:11</td>\n",
       "    </tr>\n",
       "    <tr>\n",
       "      <th>119991</th>\n",
       "      <td>28906</td>\n",
       "      <td>115149</td>\n",
       "      <td>lack of story</td>\n",
       "      <td>1427746053</td>\n",
       "      <td>2015-03-30 20:07:33</td>\n",
       "    </tr>\n",
       "    <tr>\n",
       "      <th>119993</th>\n",
       "      <td>28906</td>\n",
       "      <td>115149</td>\n",
       "      <td>over the top</td>\n",
       "      <td>1427746060</td>\n",
       "      <td>2015-03-30 20:07:40</td>\n",
       "    </tr>\n",
       "    <tr>\n",
       "      <th>119989</th>\n",
       "      <td>28906</td>\n",
       "      <td>115149</td>\n",
       "      <td>cheesy</td>\n",
       "      <td>1427746074</td>\n",
       "      <td>2015-03-30 20:07:54</td>\n",
       "    </tr>\n",
       "    <tr>\n",
       "      <th>405155</th>\n",
       "      <td>123297</td>\n",
       "      <td>128642</td>\n",
       "      <td>CLV</td>\n",
       "      <td>1427746337</td>\n",
       "      <td>2015-03-30 20:12:17</td>\n",
       "    </tr>\n",
       "    <tr>\n",
       "      <th>399877</th>\n",
       "      <td>123297</td>\n",
       "      <td>4211</td>\n",
       "      <td>CLV</td>\n",
       "      <td>1427746709</td>\n",
       "      <td>2015-03-30 20:18:29</td>\n",
       "    </tr>\n",
       "    <tr>\n",
       "      <th>400993</th>\n",
       "      <td>123297</td>\n",
       "      <td>6419</td>\n",
       "      <td>CLV</td>\n",
       "      <td>1427746864</td>\n",
       "      <td>2015-03-30 20:21:04</td>\n",
       "    </tr>\n",
       "    <tr>\n",
       "      <th>401017</th>\n",
       "      <td>123297</td>\n",
       "      <td>6481</td>\n",
       "      <td>CLV</td>\n",
       "      <td>1427747220</td>\n",
       "      <td>2015-03-30 20:27:00</td>\n",
       "    </tr>\n",
       "    <tr>\n",
       "      <th>405123</th>\n",
       "      <td>123297</td>\n",
       "      <td>118722</td>\n",
       "      <td>CLV</td>\n",
       "      <td>1427747321</td>\n",
       "      <td>2015-03-30 20:28:41</td>\n",
       "    </tr>\n",
       "    <tr>\n",
       "      <th>400106</th>\n",
       "      <td>123297</td>\n",
       "      <td>4573</td>\n",
       "      <td>CLV</td>\n",
       "      <td>1427747462</td>\n",
       "      <td>2015-03-30 20:31:02</td>\n",
       "    </tr>\n",
       "    <tr>\n",
       "      <th>150873</th>\n",
       "      <td>42640</td>\n",
       "      <td>115122</td>\n",
       "      <td>mockumentary</td>\n",
       "      <td>1427748778</td>\n",
       "      <td>2015-03-30 20:52:58</td>\n",
       "    </tr>\n",
       "    <tr>\n",
       "      <th>150871</th>\n",
       "      <td>42640</td>\n",
       "      <td>115122</td>\n",
       "      <td>comedy</td>\n",
       "      <td>1427748797</td>\n",
       "      <td>2015-03-30 20:53:17</td>\n",
       "    </tr>\n",
       "    <tr>\n",
       "      <th>150872</th>\n",
       "      <td>42640</td>\n",
       "      <td>115122</td>\n",
       "      <td>dark comedy</td>\n",
       "      <td>1427748808</td>\n",
       "      <td>2015-03-30 20:53:28</td>\n",
       "    </tr>\n",
       "    <tr>\n",
       "      <th>392905</th>\n",
       "      <td>122523</td>\n",
       "      <td>5004</td>\n",
       "      <td>USA</td>\n",
       "      <td>1427752289</td>\n",
       "      <td>2015-03-30 21:51:29</td>\n",
       "    </tr>\n",
       "    <tr>\n",
       "      <th>392904</th>\n",
       "      <td>122523</td>\n",
       "      <td>5004</td>\n",
       "      <td>party</td>\n",
       "      <td>1427752292</td>\n",
       "      <td>2015-03-30 21:51:32</td>\n",
       "    </tr>\n",
       "    <tr>\n",
       "      <th>290536</th>\n",
       "      <td>88044</td>\n",
       "      <td>106782</td>\n",
       "      <td>unsatisfying ending</td>\n",
       "      <td>1427753000</td>\n",
       "      <td>2015-03-30 22:03:20</td>\n",
       "    </tr>\n",
       "    <tr>\n",
       "      <th>290534</th>\n",
       "      <td>88044</td>\n",
       "      <td>106782</td>\n",
       "      <td>Orgies</td>\n",
       "      <td>1427753111</td>\n",
       "      <td>2015-03-30 22:05:11</td>\n",
       "    </tr>\n",
       "    <tr>\n",
       "      <th>290529</th>\n",
       "      <td>88044</td>\n",
       "      <td>106782</td>\n",
       "      <td>ENFP</td>\n",
       "      <td>1427753147</td>\n",
       "      <td>2015-03-30 22:05:47</td>\n",
       "    </tr>\n",
       "    <tr>\n",
       "      <th>290532</th>\n",
       "      <td>88044</td>\n",
       "      <td>106782</td>\n",
       "      <td>Left-Wing Propaganda</td>\n",
       "      <td>1427753266</td>\n",
       "      <td>2015-03-30 22:07:46</td>\n",
       "    </tr>\n",
       "    <tr>\n",
       "      <th>290533</th>\n",
       "      <td>88044</td>\n",
       "      <td>106782</td>\n",
       "      <td>Left-Wing Writers</td>\n",
       "      <td>1427753621</td>\n",
       "      <td>2015-03-30 22:13:41</td>\n",
       "    </tr>\n",
       "    <tr>\n",
       "      <th>290528</th>\n",
       "      <td>88044</td>\n",
       "      <td>106782</td>\n",
       "      <td>Economically Illiterate Writers</td>\n",
       "      <td>1427753739</td>\n",
       "      <td>2015-03-30 22:15:39</td>\n",
       "    </tr>\n",
       "    <tr>\n",
       "      <th>290530</th>\n",
       "      <td>88044</td>\n",
       "      <td>106782</td>\n",
       "      <td>inaccurate</td>\n",
       "      <td>1427753806</td>\n",
       "      <td>2015-03-30 22:16:46</td>\n",
       "    </tr>\n",
       "    <tr>\n",
       "      <th>290531</th>\n",
       "      <td>88044</td>\n",
       "      <td>106782</td>\n",
       "      <td>Jonah Hill</td>\n",
       "      <td>1427753849</td>\n",
       "      <td>2015-03-30 22:17:29</td>\n",
       "    </tr>\n",
       "    <tr>\n",
       "      <th>290526</th>\n",
       "      <td>88044</td>\n",
       "      <td>106782</td>\n",
       "      <td>Amoral</td>\n",
       "      <td>1427753913</td>\n",
       "      <td>2015-03-30 22:18:33</td>\n",
       "    </tr>\n",
       "    <tr>\n",
       "      <th>290527</th>\n",
       "      <td>88044</td>\n",
       "      <td>106782</td>\n",
       "      <td>crime</td>\n",
       "      <td>1427753921</td>\n",
       "      <td>2015-03-30 22:18:41</td>\n",
       "    </tr>\n",
       "    <tr>\n",
       "      <th>290535</th>\n",
       "      <td>88044</td>\n",
       "      <td>106782</td>\n",
       "      <td>profanity</td>\n",
       "      <td>1427754096</td>\n",
       "      <td>2015-03-30 22:21:36</td>\n",
       "    </tr>\n",
       "    <tr>\n",
       "      <th>288375</th>\n",
       "      <td>87797</td>\n",
       "      <td>215</td>\n",
       "      <td>Vienna</td>\n",
       "      <td>1427755801</td>\n",
       "      <td>2015-03-30 22:50:01</td>\n",
       "    </tr>\n",
       "    <tr>\n",
       "      <th>158763</th>\n",
       "      <td>46072</td>\n",
       "      <td>3409</td>\n",
       "      <td>premonition</td>\n",
       "      <td>1427760726</td>\n",
       "      <td>2015-03-31 00:12:06</td>\n",
       "    </tr>\n",
       "    <tr>\n",
       "      <th>158780</th>\n",
       "      <td>46072</td>\n",
       "      <td>6058</td>\n",
       "      <td>premonition</td>\n",
       "      <td>1427760764</td>\n",
       "      <td>2015-03-31 00:12:44</td>\n",
       "    </tr>\n",
       "    <tr>\n",
       "      <th>339178</th>\n",
       "      <td>102853</td>\n",
       "      <td>115149</td>\n",
       "      <td>russian mafia</td>\n",
       "      <td>1427771352</td>\n",
       "      <td>2015-03-31 03:09:12</td>\n",
       "    </tr>\n",
       "  </tbody>\n",
       "</table>\n",
       "<p>465564 rows × 5 columns</p>\n",
       "</div>"
      ],
      "text/plain": [
       "        userId  movieId                              tag   timestamp  \\\n",
       "333932  100371     2788                     monty python  1135429210   \n",
       "333927  100371     1732                    coen brothers  1135429236   \n",
       "333924  100371     1206                  stanley kubrick  1135429248   \n",
       "333923  100371     1193                   jack nicholson  1135429371   \n",
       "333939  100371     5004                    peter sellers  1135429399   \n",
       "333922  100371       47                   morgan freeman  1135429412   \n",
       "333921  100371       47                        brad pitt  1135429412   \n",
       "333936  100371     4011                        brad pitt  1135429431   \n",
       "333937  100371     4011                      guy ritchie  1135429431   \n",
       "333920  100371       32                     bruce willis  1135429442   \n",
       "333933  100371     2858                     kevin spacey  1135429466   \n",
       "333931  100371     2329                     fuckoff nazi  1135429508   \n",
       "333930  100371     2329                    edward norton  1135429508   \n",
       "333944  100371     6016                           brazil  1135429520   \n",
       "15903     3797      110                        overrated  1135589075   \n",
       "256663   75141     4642                         Terrible  1135688095   \n",
       "15926     3797     8573             Nonlinear Surrealism  1135936223   \n",
       "68928    16050    38886                             twee  1136036612   \n",
       "68924    16050    38886                         eighties  1136036612   \n",
       "68925    16050    38886                           family  1136036612   \n",
       "68926    16050    38886                         new york  1136036612   \n",
       "68927    16050    38886                        overrated  1136036612   \n",
       "68919    16050     7060                        christian  1136039301   \n",
       "68921    16050     7060                          musical  1136039301   \n",
       "68920    16050     7060                           kitsch  1136039301   \n",
       "68922    16050     7060                        religious  1136039301   \n",
       "68918    16050     6898                            harsh  1136039368   \n",
       "68916    16050     6898                          british  1136039368   \n",
       "68917    16050     6898                            drugs  1136039368   \n",
       "81444    20513    36529                            truth  1136242623   \n",
       "...        ...      ...                              ...         ...   \n",
       "119997   28906   115149                          violent  1427746031   \n",
       "119991   28906   115149                    lack of story  1427746053   \n",
       "119993   28906   115149                     over the top  1427746060   \n",
       "119989   28906   115149                           cheesy  1427746074   \n",
       "405155  123297   128642                              CLV  1427746337   \n",
       "399877  123297     4211                              CLV  1427746709   \n",
       "400993  123297     6419                              CLV  1427746864   \n",
       "401017  123297     6481                              CLV  1427747220   \n",
       "405123  123297   118722                              CLV  1427747321   \n",
       "400106  123297     4573                              CLV  1427747462   \n",
       "150873   42640   115122                     mockumentary  1427748778   \n",
       "150871   42640   115122                           comedy  1427748797   \n",
       "150872   42640   115122                      dark comedy  1427748808   \n",
       "392905  122523     5004                              USA  1427752289   \n",
       "392904  122523     5004                            party  1427752292   \n",
       "290536   88044   106782              unsatisfying ending  1427753000   \n",
       "290534   88044   106782                           Orgies  1427753111   \n",
       "290529   88044   106782                             ENFP  1427753147   \n",
       "290532   88044   106782             Left-Wing Propaganda  1427753266   \n",
       "290533   88044   106782                Left-Wing Writers  1427753621   \n",
       "290528   88044   106782  Economically Illiterate Writers  1427753739   \n",
       "290530   88044   106782                       inaccurate  1427753806   \n",
       "290531   88044   106782                       Jonah Hill  1427753849   \n",
       "290526   88044   106782                           Amoral  1427753913   \n",
       "290527   88044   106782                            crime  1427753921   \n",
       "290535   88044   106782                        profanity  1427754096   \n",
       "288375   87797      215                           Vienna  1427755801   \n",
       "158763   46072     3409                      premonition  1427760726   \n",
       "158780   46072     6058                      premonition  1427760764   \n",
       "339178  102853   115149                    russian mafia  1427771352   \n",
       "\n",
       "               parsed_time  \n",
       "333932 2005-12-24 13:00:10  \n",
       "333927 2005-12-24 13:00:36  \n",
       "333924 2005-12-24 13:00:48  \n",
       "333923 2005-12-24 13:02:51  \n",
       "333939 2005-12-24 13:03:19  \n",
       "333922 2005-12-24 13:03:32  \n",
       "333921 2005-12-24 13:03:32  \n",
       "333936 2005-12-24 13:03:51  \n",
       "333937 2005-12-24 13:03:51  \n",
       "333920 2005-12-24 13:04:02  \n",
       "333933 2005-12-24 13:04:26  \n",
       "333931 2005-12-24 13:05:08  \n",
       "333930 2005-12-24 13:05:08  \n",
       "333944 2005-12-24 13:05:20  \n",
       "15903  2005-12-26 09:24:35  \n",
       "256663 2005-12-27 12:54:55  \n",
       "15926  2005-12-30 09:50:23  \n",
       "68928  2005-12-31 13:43:32  \n",
       "68924  2005-12-31 13:43:32  \n",
       "68925  2005-12-31 13:43:32  \n",
       "68926  2005-12-31 13:43:32  \n",
       "68927  2005-12-31 13:43:32  \n",
       "68919  2005-12-31 14:28:21  \n",
       "68921  2005-12-31 14:28:21  \n",
       "68920  2005-12-31 14:28:21  \n",
       "68922  2005-12-31 14:28:21  \n",
       "68918  2005-12-31 14:29:28  \n",
       "68916  2005-12-31 14:29:28  \n",
       "68917  2005-12-31 14:29:28  \n",
       "81444  2006-01-02 22:57:03  \n",
       "...                    ...  \n",
       "119997 2015-03-30 20:07:11  \n",
       "119991 2015-03-30 20:07:33  \n",
       "119993 2015-03-30 20:07:40  \n",
       "119989 2015-03-30 20:07:54  \n",
       "405155 2015-03-30 20:12:17  \n",
       "399877 2015-03-30 20:18:29  \n",
       "400993 2015-03-30 20:21:04  \n",
       "401017 2015-03-30 20:27:00  \n",
       "405123 2015-03-30 20:28:41  \n",
       "400106 2015-03-30 20:31:02  \n",
       "150873 2015-03-30 20:52:58  \n",
       "150871 2015-03-30 20:53:17  \n",
       "150872 2015-03-30 20:53:28  \n",
       "392905 2015-03-30 21:51:29  \n",
       "392904 2015-03-30 21:51:32  \n",
       "290536 2015-03-30 22:03:20  \n",
       "290534 2015-03-30 22:05:11  \n",
       "290529 2015-03-30 22:05:47  \n",
       "290532 2015-03-30 22:07:46  \n",
       "290533 2015-03-30 22:13:41  \n",
       "290528 2015-03-30 22:15:39  \n",
       "290530 2015-03-30 22:16:46  \n",
       "290531 2015-03-30 22:17:29  \n",
       "290526 2015-03-30 22:18:33  \n",
       "290527 2015-03-30 22:18:41  \n",
       "290535 2015-03-30 22:21:36  \n",
       "288375 2015-03-30 22:50:01  \n",
       "158763 2015-03-31 00:12:06  \n",
       "158780 2015-03-31 00:12:44  \n",
       "339178 2015-03-31 03:09:12  \n",
       "\n",
       "[465564 rows x 5 columns]"
      ]
     },
     "execution_count": 29,
     "metadata": {},
     "output_type": "execute_result"
    }
   ],
   "source": [
    "tags.sort_values(by='parsed_time')"
   ]
  },
  {
   "cell_type": "code",
   "execution_count": 30,
   "metadata": {
    "collapsed": false
   },
   "outputs": [
    {
     "data": {
      "text/html": [
       "<div>\n",
       "<table border=\"1\" class=\"dataframe\">\n",
       "  <thead>\n",
       "    <tr style=\"text-align: right;\">\n",
       "      <th></th>\n",
       "      <th>userId</th>\n",
       "      <th>movieId</th>\n",
       "      <th>rating</th>\n",
       "      <th>timestamp</th>\n",
       "    </tr>\n",
       "  </thead>\n",
       "  <tbody>\n",
       "    <tr>\n",
       "      <th>0</th>\n",
       "      <td>1</td>\n",
       "      <td>2</td>\n",
       "      <td>3.5</td>\n",
       "      <td>1112486027</td>\n",
       "    </tr>\n",
       "    <tr>\n",
       "      <th>1</th>\n",
       "      <td>1</td>\n",
       "      <td>29</td>\n",
       "      <td>3.5</td>\n",
       "      <td>1112484676</td>\n",
       "    </tr>\n",
       "    <tr>\n",
       "      <th>2</th>\n",
       "      <td>1</td>\n",
       "      <td>32</td>\n",
       "      <td>3.5</td>\n",
       "      <td>1112484819</td>\n",
       "    </tr>\n",
       "    <tr>\n",
       "      <th>3</th>\n",
       "      <td>1</td>\n",
       "      <td>47</td>\n",
       "      <td>3.5</td>\n",
       "      <td>1112484727</td>\n",
       "    </tr>\n",
       "    <tr>\n",
       "      <th>4</th>\n",
       "      <td>1</td>\n",
       "      <td>50</td>\n",
       "      <td>3.5</td>\n",
       "      <td>1112484580</td>\n",
       "    </tr>\n",
       "  </tbody>\n",
       "</table>\n",
       "</div>"
      ],
      "text/plain": [
       "   userId  movieId  rating   timestamp\n",
       "0       1        2     3.5  1112486027\n",
       "1       1       29     3.5  1112484676\n",
       "2       1       32     3.5  1112484819\n",
       "3       1       47     3.5  1112484727\n",
       "4       1       50     3.5  1112484580"
      ]
     },
     "execution_count": 30,
     "metadata": {},
     "output_type": "execute_result"
    }
   ],
   "source": [
    "ratings = pd.read_csv('movielens/ratings.csv')\n",
    "ratings.head()"
   ]
  },
  {
   "cell_type": "code",
   "execution_count": 34,
   "metadata": {
    "collapsed": false
   },
   "outputs": [],
   "source": [
    "tt = pd.to_datetime(ratings['timestamp'], unit='s')"
   ]
  },
  {
   "cell_type": "code",
   "execution_count": 40,
   "metadata": {
    "collapsed": false
   },
   "outputs": [
    {
     "data": {
      "text/plain": [
       "2005"
      ]
     },
     "execution_count": 40,
     "metadata": {},
     "output_type": "execute_result"
    }
   ],
   "source": [
    "tt.year"
   ]
  },
  {
   "cell_type": "code",
   "execution_count": 42,
   "metadata": {
    "collapsed": false
   },
   "outputs": [],
   "source": [
    "ratings['parsed_time'] = pd.to_datetime(ratings['timestamp'], unit='s')\n",
    "ratings['year'] = ratings['parsed_time']"
   ]
  },
  {
   "cell_type": "code",
   "execution_count": 55,
   "metadata": {
    "collapsed": false
   },
   "outputs": [
    {
     "data": {
      "text/html": [
       "<div>\n",
       "<table border=\"1\" class=\"dataframe\">\n",
       "  <thead>\n",
       "    <tr style=\"text-align: right;\">\n",
       "      <th></th>\n",
       "      <th>movieId</th>\n",
       "      <th>title</th>\n",
       "      <th>genres</th>\n",
       "    </tr>\n",
       "  </thead>\n",
       "  <tbody>\n",
       "    <tr>\n",
       "      <th>0</th>\n",
       "      <td>1</td>\n",
       "      <td>Toy Story (1995)</td>\n",
       "      <td>Adventure|Animation|Children|Comedy|Fantasy</td>\n",
       "    </tr>\n",
       "    <tr>\n",
       "      <th>1</th>\n",
       "      <td>2</td>\n",
       "      <td>Jumanji (1995)</td>\n",
       "      <td>Adventure|Children|Fantasy</td>\n",
       "    </tr>\n",
       "    <tr>\n",
       "      <th>2</th>\n",
       "      <td>3</td>\n",
       "      <td>Grumpier Old Men (1995)</td>\n",
       "      <td>Comedy|Romance</td>\n",
       "    </tr>\n",
       "    <tr>\n",
       "      <th>3</th>\n",
       "      <td>4</td>\n",
       "      <td>Waiting to Exhale (1995)</td>\n",
       "      <td>Comedy|Drama|Romance</td>\n",
       "    </tr>\n",
       "    <tr>\n",
       "      <th>4</th>\n",
       "      <td>5</td>\n",
       "      <td>Father of the Bride Part II (1995)</td>\n",
       "      <td>Comedy</td>\n",
       "    </tr>\n",
       "  </tbody>\n",
       "</table>\n",
       "</div>"
      ],
      "text/plain": [
       "   movieId                               title  \\\n",
       "0        1                    Toy Story (1995)   \n",
       "1        2                      Jumanji (1995)   \n",
       "2        3             Grumpier Old Men (1995)   \n",
       "3        4            Waiting to Exhale (1995)   \n",
       "4        5  Father of the Bride Part II (1995)   \n",
       "\n",
       "                                        genres  \n",
       "0  Adventure|Animation|Children|Comedy|Fantasy  \n",
       "1                   Adventure|Children|Fantasy  \n",
       "2                               Comedy|Romance  \n",
       "3                         Comedy|Drama|Romance  \n",
       "4                                       Comedy  "
      ]
     },
     "execution_count": 55,
     "metadata": {},
     "output_type": "execute_result"
    }
   ],
   "source": [
    "movies = pd.read_csv('movielens/movies.csv')\n",
    "movies.head()"
   ]
  },
  {
   "cell_type": "code",
   "execution_count": 57,
   "metadata": {
    "collapsed": false
   },
   "outputs": [
    {
     "name": "stderr",
     "output_type": "stream",
     "text": [
      "/Users/BadWizard/anaconda3/envs/py35/lib/python3.5/site-packages/ipykernel/__main__.py:1: FutureWarning: currently extract(expand=None) means expand=False (return Index/Series/DataFrame) but in a future version of pandas this will be changed to expand=True (return DataFrame)\n",
      "  if __name__ == '__main__':\n"
     ]
    },
    {
     "data": {
      "text/html": [
       "<div>\n",
       "<table border=\"1\" class=\"dataframe\">\n",
       "  <thead>\n",
       "    <tr style=\"text-align: right;\">\n",
       "      <th></th>\n",
       "      <th>movieId</th>\n",
       "      <th>title</th>\n",
       "      <th>genres</th>\n",
       "      <th>year</th>\n",
       "    </tr>\n",
       "  </thead>\n",
       "  <tbody>\n",
       "    <tr>\n",
       "      <th>0</th>\n",
       "      <td>1</td>\n",
       "      <td>Toy Story (1995)</td>\n",
       "      <td>Adventure|Animation|Children|Comedy|Fantasy</td>\n",
       "      <td>1995</td>\n",
       "    </tr>\n",
       "    <tr>\n",
       "      <th>1</th>\n",
       "      <td>2</td>\n",
       "      <td>Jumanji (1995)</td>\n",
       "      <td>Adventure|Children|Fantasy</td>\n",
       "      <td>1995</td>\n",
       "    </tr>\n",
       "    <tr>\n",
       "      <th>2</th>\n",
       "      <td>3</td>\n",
       "      <td>Grumpier Old Men (1995)</td>\n",
       "      <td>Comedy|Romance</td>\n",
       "      <td>1995</td>\n",
       "    </tr>\n",
       "    <tr>\n",
       "      <th>3</th>\n",
       "      <td>4</td>\n",
       "      <td>Waiting to Exhale (1995)</td>\n",
       "      <td>Comedy|Drama|Romance</td>\n",
       "      <td>1995</td>\n",
       "    </tr>\n",
       "    <tr>\n",
       "      <th>4</th>\n",
       "      <td>5</td>\n",
       "      <td>Father of the Bride Part II (1995)</td>\n",
       "      <td>Comedy</td>\n",
       "      <td>1995</td>\n",
       "    </tr>\n",
       "  </tbody>\n",
       "</table>\n",
       "</div>"
      ],
      "text/plain": [
       "   movieId                               title  \\\n",
       "0        1                    Toy Story (1995)   \n",
       "1        2                      Jumanji (1995)   \n",
       "2        3             Grumpier Old Men (1995)   \n",
       "3        4            Waiting to Exhale (1995)   \n",
       "4        5  Father of the Bride Part II (1995)   \n",
       "\n",
       "                                        genres  year  \n",
       "0  Adventure|Animation|Children|Comedy|Fantasy  1995  \n",
       "1                   Adventure|Children|Fantasy  1995  \n",
       "2                               Comedy|Romance  1995  \n",
       "3                         Comedy|Drama|Romance  1995  \n",
       "4                                       Comedy  1995  "
      ]
     },
     "execution_count": 57,
     "metadata": {},
     "output_type": "execute_result"
    }
   ],
   "source": [
    "movies['year'] = movies['title'].str.extract('.*\\((.*)\\).*')\n",
    "movies.head()"
   ]
  },
  {
   "cell_type": "code",
   "execution_count": 58,
   "metadata": {
    "collapsed": false
   },
   "outputs": [],
   "source": [
    "average_rating = ratings[['rating', 'movieId']].groupby('movieId', as_index = False).mean()"
   ]
  },
  {
   "cell_type": "code",
   "execution_count": 59,
   "metadata": {
    "collapsed": false
   },
   "outputs": [],
   "source": [
    "joined = movies.merge(average_rating, on='movieId')"
   ]
  },
  {
   "cell_type": "code",
   "execution_count": 60,
   "metadata": {
    "collapsed": false
   },
   "outputs": [
    {
     "data": {
      "text/html": [
       "<div>\n",
       "<table border=\"1\" class=\"dataframe\">\n",
       "  <thead>\n",
       "    <tr style=\"text-align: right;\">\n",
       "      <th></th>\n",
       "      <th>movieId</th>\n",
       "      <th>title</th>\n",
       "      <th>genres</th>\n",
       "      <th>year</th>\n",
       "      <th>rating</th>\n",
       "    </tr>\n",
       "  </thead>\n",
       "  <tbody>\n",
       "    <tr>\n",
       "      <th>0</th>\n",
       "      <td>1</td>\n",
       "      <td>Toy Story (1995)</td>\n",
       "      <td>Adventure|Animation|Children|Comedy|Fantasy</td>\n",
       "      <td>1995</td>\n",
       "      <td>3.921240</td>\n",
       "    </tr>\n",
       "    <tr>\n",
       "      <th>1</th>\n",
       "      <td>2</td>\n",
       "      <td>Jumanji (1995)</td>\n",
       "      <td>Adventure|Children|Fantasy</td>\n",
       "      <td>1995</td>\n",
       "      <td>3.211977</td>\n",
       "    </tr>\n",
       "    <tr>\n",
       "      <th>2</th>\n",
       "      <td>3</td>\n",
       "      <td>Grumpier Old Men (1995)</td>\n",
       "      <td>Comedy|Romance</td>\n",
       "      <td>1995</td>\n",
       "      <td>3.151040</td>\n",
       "    </tr>\n",
       "    <tr>\n",
       "      <th>3</th>\n",
       "      <td>4</td>\n",
       "      <td>Waiting to Exhale (1995)</td>\n",
       "      <td>Comedy|Drama|Romance</td>\n",
       "      <td>1995</td>\n",
       "      <td>2.861393</td>\n",
       "    </tr>\n",
       "    <tr>\n",
       "      <th>4</th>\n",
       "      <td>5</td>\n",
       "      <td>Father of the Bride Part II (1995)</td>\n",
       "      <td>Comedy</td>\n",
       "      <td>1995</td>\n",
       "      <td>3.064592</td>\n",
       "    </tr>\n",
       "  </tbody>\n",
       "</table>\n",
       "</div>"
      ],
      "text/plain": [
       "   movieId                               title  \\\n",
       "0        1                    Toy Story (1995)   \n",
       "1        2                      Jumanji (1995)   \n",
       "2        3             Grumpier Old Men (1995)   \n",
       "3        4            Waiting to Exhale (1995)   \n",
       "4        5  Father of the Bride Part II (1995)   \n",
       "\n",
       "                                        genres  year    rating  \n",
       "0  Adventure|Animation|Children|Comedy|Fantasy  1995  3.921240  \n",
       "1                   Adventure|Children|Fantasy  1995  3.211977  \n",
       "2                               Comedy|Romance  1995  3.151040  \n",
       "3                         Comedy|Drama|Romance  1995  2.861393  \n",
       "4                                       Comedy  1995  3.064592  "
      ]
     },
     "execution_count": 60,
     "metadata": {},
     "output_type": "execute_result"
    }
   ],
   "source": [
    "joined.head()"
   ]
  },
  {
   "cell_type": "code",
   "execution_count": 73,
   "metadata": {
    "collapsed": false,
    "scrolled": true
   },
   "outputs": [
    {
     "data": {
      "text/plain": [
       "<matplotlib.axes._subplots.AxesSubplot at 0x1161cf6a0>"
      ]
     },
     "execution_count": 73,
     "metadata": {},
     "output_type": "execute_result"
    },
    {
     "data": {
      "image/png": "[encoded data removed]",
      "text/plain": [
       "<matplotlib.figure.Figure at 0x1162f96d8>"
      ]
     },
     "metadata": {},
     "output_type": "display_data"
    }
   ],
   "source": [
    "%matplotlib inline\n",
    "yearly_average = joined[['year','rating']].groupby('year', as_index = True).mean()\n",
    "yearly_average.plot()"
   ]
  },
  {
   "cell_type": "code",
   "execution_count": 76,
   "metadata": {
    "collapsed": false
   },
   "outputs": [
    {
     "data": {
      "text/plain": [
       "<matplotlib.axes._subplots.AxesSubplot at 0x1162fb3c8>"
      ]
     },
     "execution_count": 76,
     "metadata": {},
     "output_type": "execute_result"
    },
    {
     "data": {
      "image/png": "[encoded data removed]",
      "text/plain": [
       "<matplotlib.figure.Figure at 0x116223550>"
      ]
     },
     "metadata": {},
     "output_type": "display_data"
    }
   ],
   "source": [
    "yearly_average['rating-2'] = yearly_average['rating']*1.4\n",
    "yearly_average.plot()"
   ]
  },
  {
   "cell_type": "code",
   "execution_count": 77,
   "metadata": {
    "collapsed": true
   },
   "outputs": [],
   "source": [
    "import pandas as pd\n",
    "ser = pd.Series([100, 200, 300, 400, 500], index = ['tom', 'bob', 'nancy', 'dan', 'eric'])"
   ]
  },
  {
   "cell_type": "code",
   "execution_count": 78,
   "metadata": {
    "collapsed": false
   },
   "outputs": [
    {
     "data": {
      "text/plain": [
       "tom    100\n",
       "bob    200\n",
       "dtype: int64"
      ]
     },
     "execution_count": 78,
     "metadata": {},
     "output_type": "execute_result"
    }
   ],
   "source": [
    "ser[[0,1]]"
   ]
  },
  {
   "cell_type": "code",
   "execution_count": 79,
   "metadata": {
    "collapsed": false
   },
   "outputs": [
    {
     "data": {
      "text/plain": [
       "tom    100\n",
       "bob    200\n",
       "dtype: int64"
      ]
     },
     "execution_count": 79,
     "metadata": {},
     "output_type": "execute_result"
    }
   ],
   "source": [
    "ser.iloc[[0,1]]"
   ]
  },
  {
   "cell_type": "code",
   "execution_count": 80,
   "metadata": {
    "collapsed": false
   },
   "outputs": [
    {
     "data": {
      "text/plain": [
       "tom    100\n",
       "bob    200\n",
       "dtype: int64"
      ]
     },
     "execution_count": 80,
     "metadata": {},
     "output_type": "execute_result"
    }
   ],
   "source": [
    "ser[['tom', 'bob']]"
   ]
  },
  {
   "cell_type": "code",
   "execution_count": 81,
   "metadata": {
    "collapsed": false
   },
   "outputs": [
    {
     "data": {
      "text/plain": [
       "tom    100\n",
       "bob    200\n",
       "dtype: int64"
      ]
     },
     "execution_count": 81,
     "metadata": {},
     "output_type": "execute_result"
    }
   ],
   "source": [
    "ser.loc[['tom', 'bob']]"
   ]
  },
  {
   "cell_type": "code",
   "execution_count": 82,
   "metadata": {
    "collapsed": false
   },
   "outputs": [
    {
     "data": {
      "text/plain": [
       "tom    100\n",
       "bob    200\n",
       "dtype: int64"
      ]
     },
     "execution_count": 82,
     "metadata": {},
     "output_type": "execute_result"
    }
   ],
   "source": [
    "ser.loc[['tom','bob']]"
   ]
  },
  {
   "cell_type": "code",
   "execution_count": 83,
   "metadata": {
    "collapsed": false
   },
   "outputs": [
    {
     "data": {
      "text/plain": [
       "tom    100\n",
       "bob    200\n",
       "dtype: int64"
      ]
     },
     "execution_count": 83,
     "metadata": {},
     "output_type": "execute_result"
    }
   ],
   "source": [
    "ser[[0,1]]"
   ]
  },
  {
   "cell_type": "code",
   "execution_count": 84,
   "metadata": {
    "collapsed": true
   },
   "outputs": [],
   "source": [
    "mm = pd.read_csv('movielens/movies.csv')"
   ]
  },
  {
   "cell_type": "code",
   "execution_count": 87,
   "metadata": {
    "collapsed": false
   },
   "outputs": [
    {
     "data": {
      "text/plain": [
       "pandas.core.series.Series"
      ]
     },
     "execution_count": 87,
     "metadata": {},
     "output_type": "execute_result"
    }
   ],
   "source": [
    "type(mm.iloc[0,:])"
   ]
  },
  {
   "cell_type": "code",
   "execution_count": 90,
   "metadata": {
    "collapsed": false
   },
   "outputs": [
    {
     "ename": "TypeError",
     "evalue": "head() got an unexpected keyword argument 'x'",
     "output_type": "error",
     "traceback": [
      "\u001b[0;31m---------------------------------------------------------------------------\u001b[0m",
      "\u001b[0;31mTypeError\u001b[0m                                 Traceback (most recent call last)",
      "\u001b[0;32m<ipython-input-90-4ca747b536aa>\u001b[0m in \u001b[0;36m<module>\u001b[0;34m()\u001b[0m\n\u001b[0;32m----> 1\u001b[0;31m \u001b[0mmm\u001b[0m\u001b[0;34m.\u001b[0m\u001b[0mhead\u001b[0m\u001b[0;34m(\u001b[0m\u001b[0mx\u001b[0m\u001b[0;34m=\u001b[0m\u001b[0;36m7\u001b[0m\u001b[0;34m)\u001b[0m\u001b[0;34m\u001b[0m\u001b[0m\n\u001b[0m",
      "\u001b[0;31mTypeError\u001b[0m: head() got an unexpected keyword argument 'x'"
     ]
    }
   ],
   "source": [
    "mm.head(x=7)"
   ]
  },
  {
   "cell_type": "code",
   "execution_count": 91,
   "metadata": {
    "collapsed": false
   },
   "outputs": [
    {
     "data": {
      "text/html": [
       "<div>\n",
       "<table border=\"1\" class=\"dataframe\">\n",
       "  <thead>\n",
       "    <tr style=\"text-align: right;\">\n",
       "      <th></th>\n",
       "      <th>movieId</th>\n",
       "    </tr>\n",
       "  </thead>\n",
       "  <tbody>\n",
       "    <tr>\n",
       "      <th>count</th>\n",
       "      <td>27278.000000</td>\n",
       "    </tr>\n",
       "    <tr>\n",
       "      <th>mean</th>\n",
       "      <td>59855.480570</td>\n",
       "    </tr>\n",
       "    <tr>\n",
       "      <th>std</th>\n",
       "      <td>44429.314697</td>\n",
       "    </tr>\n",
       "    <tr>\n",
       "      <th>min</th>\n",
       "      <td>1.000000</td>\n",
       "    </tr>\n",
       "    <tr>\n",
       "      <th>25%</th>\n",
       "      <td>6931.250000</td>\n",
       "    </tr>\n",
       "    <tr>\n",
       "      <th>50%</th>\n",
       "      <td>68068.000000</td>\n",
       "    </tr>\n",
       "    <tr>\n",
       "      <th>75%</th>\n",
       "      <td>100293.250000</td>\n",
       "    </tr>\n",
       "    <tr>\n",
       "      <th>max</th>\n",
       "      <td>131262.000000</td>\n",
       "    </tr>\n",
       "  </tbody>\n",
       "</table>\n",
       "</div>"
      ],
      "text/plain": [
       "             movieId\n",
       "count   27278.000000\n",
       "mean    59855.480570\n",
       "std     44429.314697\n",
       "min         1.000000\n",
       "25%      6931.250000\n",
       "50%     68068.000000\n",
       "75%    100293.250000\n",
       "max    131262.000000"
      ]
     },
     "execution_count": 91,
     "metadata": {},
     "output_type": "execute_result"
    }
   ],
   "source": [
    "mm.describe()"
   ]
  },
  {
   "cell_type": "code",
   "execution_count": 99,
   "metadata": {
    "collapsed": false
   },
   "outputs": [
    {
     "data": {
      "text/html": [
       "<div>\n",
       "<table border=\"1\" class=\"dataframe\">\n",
       "  <thead>\n",
       "    <tr style=\"text-align: right;\">\n",
       "      <th></th>\n",
       "      <th>movieId</th>\n",
       "    </tr>\n",
       "  </thead>\n",
       "  <tbody>\n",
       "  </tbody>\n",
       "</table>\n",
       "</div>"
      ],
      "text/plain": [
       "Empty DataFrame\n",
       "Columns: [movieId]\n",
       "Index: []"
      ]
     },
     "execution_count": 99,
     "metadata": {},
     "output_type": "execute_result"
    }
   ],
   "source": [
    "mm[['movieId']].mode()"
   ]
  },
  {
   "cell_type": "code",
   "execution_count": 100,
   "metadata": {
    "collapsed": false
   },
   "outputs": [
    {
     "data": {
      "text/plain": [
       "movieId    False\n",
       "title      False\n",
       "genres     False\n",
       "dtype: bool"
      ]
     },
     "execution_count": 100,
     "metadata": {},
     "output_type": "execute_result"
    }
   ],
   "source": [
    "mm.isnull().any()"
   ]
  },
  {
   "cell_type": "code",
   "execution_count": null,
   "metadata": {
    "collapsed": true
   },
   "outputs": [],
   "source": []
  }
 ],
 "metadata": {
  "anaconda-cloud": {},
  "kernelspec": {
   "display_name": "Python [conda env:py35]",
   "language": "python",
   "name": "conda-env-py35-py"
  },
  "language_info": {
   "codemirror_mode": {
    "name": "ipython",
    "version": 3
   },
   "file_extension": ".py",
   "mimetype": "text/x-python",
   "name": "python",
   "nbconvert_exporter": "python",
   "pygments_lexer": "ipython3",
   "version": "3.5.2"
  }
 },
 "nbformat": 4,
 "nbformat_minor": 2
}
